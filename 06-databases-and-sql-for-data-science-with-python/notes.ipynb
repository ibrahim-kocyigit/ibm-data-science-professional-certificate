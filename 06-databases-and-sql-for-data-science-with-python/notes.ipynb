{
 "cells": [
  {
   "cell_type": "markdown",
   "metadata": {},
   "source": [
    "# DATABASES AND SQL FOR DATA SCIENCE WITH PYTHON"
   ]
  },
  {
   "cell_type": "markdown",
   "metadata": {},
   "source": [
    "## Table of Contents\n",
    "1. [Module 1: Getting Started with SQL](#module-1)\n",
    "2. [Module 2: Introduction to Relational Databases and Tables](#module-2)\n",
    "3. [Module 3: ](#module-3)\n",
    "4. [Module 4: ](#module-4)\n",
    "5. [Module 5: ](#module-5)\n",
    "6. [Module 6: ](#module-6)"
   ]
  },
  {
   "cell_type": "markdown",
   "metadata": {},
   "source": [
    "# Module 1: Getting Started with SQL <a name=\"module-1\"></a>"
   ]
  },
  {
   "cell_type": "markdown",
   "metadata": {},
   "source": [
    "## Basic SQL"
   ]
  },
  {
   "cell_type": "markdown",
   "metadata": {},
   "source": [
    "### Introduction to Databases"
   ]
  },
  {
   "cell_type": "markdown",
   "metadata": {},
   "source": [
    "**SQL (Structured Query Language)** is a language used to interact with relational databases. It allows you to perform tasks like querying data, adding data, modifying data, and defining database structures.\n",
    "\n",
    "**Data** is a collection of facts, which can be in the form of words, numbers, or even pictures. Data is a valuable asset for businesses and organizations.\n",
    "\n",
    "**Database** is a program that stores data and provides functionalities for adding, modifying, and querying that data. Databases help keep data secure, organized, and easily accessible.\n",
    "\n",
    "**Relational database** is a type of database that organizes data into tables with rows and columns, similar to a spreadsheet. Tables can be related to each other based on common fields.\n",
    "\n",
    "**RDBMS (Relational Database Management System)** is a set of software tools that control the data in a relational database, including access, organization, and storage. They are used in various industries like banking, transportation, and healthcare. Examples of RDBMS include MySQL, Oracle Database, DB2 Warehouse, and DB2 on Cloud.\n",
    "\n",
    "##### 5 Basic SQL Commands:  \n",
    "* `CREATE TABLE`: Creates a new table in the database.\n",
    "* `INSERT`: Adds data into a table.\n",
    "* `SELECT`: Retrieves data from a table.\n",
    "* `UPDATE`: Modifies existing data in a table.\n",
    "* `DELETE`: Removes data from a table."
   ]
  },
  {
   "cell_type": "markdown",
   "metadata": {},
   "source": [
    "### `SELECT` Statement"
   ]
  },
  {
   "cell_type": "markdown",
   "metadata": {},
   "source": [
    "`SELECT` statement is the primary command in SQL. It's used to retrieve data from a database table. It's a Database Manipulation Language (DML) statement that allows you to specify which columns and rows you want to retrieve.\n",
    "\n",
    "A Database Management System (DBMS) not only stores data but also provides tools for retrieving and manipulating that data. The `SELECT` statement is a key tool for data retrieval.\n",
    "\n",
    "A `SELECT` statement is often called a **query**, and the output it produces is called a **result set** or **result table**.\n",
    "\n",
    "##### Basic Syntax\n",
    "* `SELECT * FROM table_name`: Retrieves all columns and all rows from the specified table.\n",
    "* `SELECT column1, column2 FROM table_name`: Retrieves only the specified columns from the table.\n",
    "\n",
    "**Comparison operators** used in predicates to compare values:\n",
    "* `=`: Equal to\n",
    "* `>`: Greater than\n",
    "* `<`: Less than\n",
    "* `>=`: Greater than or equal to\n",
    "* `<=`: Less than or equal to\n",
    "* `<>` or `!=`: Not equal to\n",
    "\n",
    "**Example:** `SELECT title FROM book WHERE book_id = 'B1`: Retrieves the title of the book with the ID 'B1'"
   ]
  },
  {
   "cell_type": "markdown",
   "metadata": {},
   "source": [
    "### `COUNT`, `DISTINCT`, and `LIMIT` Functions"
   ]
  },
  {
   "cell_type": "markdown",
   "metadata": {},
   "source": [
    "`COUNT()` is a function that retrieves the number of rows that match the specified criteria.\n",
    "* `COUNT(*)` counts all rows in a table. For example, `SELECT COUNT(*) FROM employees` counts all rows in the \"employees\" table.\n",
    "* `COUNT(column_name)` counts the number of non-null values in a specific column. For example, `SELECT COUNT(city) from customers` counts the number of non-values in the \"city\" column of the \"customers\" table.\n",
    "\n",
    "`DISTINCT` is used to remove duplicate values from a result set, returning only unique values.  For example, `SELECT DISTINCT country FROM customers` retrieves a list of unique countries from the \"country\" column of the \"customers\" table.\n",
    "\n",
    "`LIMIT` restricts the number of rows returned by a query, which is useful for previewing data or working with large datasets. For example, `SELECT * FROM products LIMIT 10` retrieves the first 10 rows from the \"products\" table. If we use `SELECT * FROM FilmLocations LIMIT 15 OFFSET 10;` the results start from row 11, leaving the first 10 row aside."
   ]
  },
  {
   "cell_type": "markdown",
   "metadata": {},
   "source": [
    "### `INSERT` Statement"
   ]
  },
  {
   "cell_type": "markdown",
   "metadata": {},
   "source": [
    "`INSERT` statement is used to add new rows to a table in a relational database. The syntax is:\n",
    "\n",
    "`INSERT INTO table_name (column_name1, column_name2, ...) VALUES (value1, value2, ...)`\n",
    "\n",
    "We can also add multiple rows at a time:\n",
    "\n",
    "`INSERT INTO table_name (column_name1, column_name2, ...) VALUES (value1_for_row1, value2_for_row1, ...), (value1_for_row2, value2_for_row2, ...)`\n",
    "\n",
    "#### Important Considerations:\n",
    "* The number of values in the `VALUES` clause must match the number of column names specified.\n",
    "* If the column names are omitted, the values must be in the same order as the columns defined in the table.\n",
    "* If a column is not specified in the `column_name` list, its value will be set to NULL (missing value)"
   ]
  },
  {
   "cell_type": "markdown",
   "metadata": {},
   "source": [
    "### `UPDATE` and `DELETE` Statements"
   ]
  },
  {
   "cell_type": "markdown",
   "metadata": {},
   "source": [
    "**`UPDATE` statement** is used to modify existing data in a table. Syntax is:\n",
    "`UPDATE table_name SET column_name1 = value 1, column_name2 = value2, ... WHERE condition;`\n",
    "\n",
    "* `table_name` is the name of the table you want to update\n",
    "* `SET` specifies the columns to be updated and their new values\n",
    "* `WHERE` specifies which rows to update. If omitted, all rows will be updated.\n",
    "\n",
    "Example:  \n",
    "`UPDATE authors SET last_name='Katta', first_name='Lakshmi' WHERE author_id='A2';` updates the last and first names of the author with the ID 'A2'.\n",
    "\n",
    "**`DELETE` statement** is used to remove rows from a table. Syntax is:\n",
    "`DELETE FROM table_name WHERE condition`\n",
    "\n",
    "Example: `DELETE FROM authors WHERE author_id IN ('A2', 'A3')` deletes rows with author IDs 'A2' and 'A3'"
   ]
  },
  {
   "cell_type": "markdown",
   "metadata": {},
   "source": [
    "# Module 2: Introduction to Relational Databases and Tables <a name=\"module-2\"></a>"
   ]
  },
  {
   "cell_type": "markdown",
   "metadata": {},
   "source": [
    "### Relational Database Concepts"
   ]
  },
  {
   "cell_type": "markdown",
   "metadata": {},
   "source": [
    "**Relational Model and Data Independence:** The relational model is widely used for databases because it provides data independence. This means that the way data is stored and accessed is independent of the way it is used by applications. This offers flexibility and easier maintenance.\n",
    "\n",
    "**Entity-Relationship (ER) Model:** An alternative to the relational model, the ER model is often used as a tool to design relational databases. It represents data as entities (objects) and their relationships.\n",
    "\n",
    "**Entities and Attributes:**  \n",
    "* **Entities:** Represent real-world objects or concepts (e.g., book, author, borrower). In an ER diagram, they are represented as triangles.\n",
    "* **Attributes:** Characteristics or properties of an entity (e.g., book title, author's name, borrower's address). In an ER diagram, they are represented as ovals.\n",
    "\n",
    "**Mapping Entities and Attributes to Tables and Columns:**  \n",
    "In a relational database, entities become tables, and attributes become columns within those tables.\n",
    "\n",
    "**Data Types:**  \n",
    "Each column has a specific data type that defines the kind of value it can store. Common data types include:\n",
    "* Characters (`CHAR`, `VARCHAR`) for storing text.\n",
    "* Numbers (`INTEGER`, `DECIMAL`) for storing numerical values.\n",
    "* Timestamps (`DATE`, `TIME`) for storing dates and times.\n",
    "\n",
    "**Primary Key** is a column or set of columns that uniquely identifies each row in a table. It prevents duplicate data and is crucial for establishing relationships between databases.\n",
    "\n",
    "**Foreign Key** is a column that refers to the primary key of another table, creating a link between the two tables. "
   ]
  },
  {
   "cell_type": "markdown",
   "metadata": {},
   "source": [
    "### Types of SQL Statements (DDL vs. DML)"
   ]
  },
  {
   "cell_type": "markdown",
   "metadata": {},
   "source": [
    "**SQL statements**, commands used to interact with databases, are categorized into two types:\n",
    "\n",
    "1. **Data Definition Language (DDL) Statements:** Used to define, change, or drop database objects like tables:\n",
    "* `CREATE`: Creates tables and defines their columns.\n",
    "* `ALTER`: Modifies existing tables (adding, dropping, or modifying columns).\n",
    "* `TRUNCATE`: Deletes all data from a table but keeps the data structure. \n",
    "* `DROP`: Deletes tables.\n",
    "\n",
    "2. **Data Manipulation Language (DML) Statements:** Used to read and modify data within tables. Also known as CRUD (Create, Read, Update, Delete) Operations.\n",
    "* `INSERT`: Adds new rows of data to a table.\n",
    "* `SELECT`: Reads or retrieves data from a table.\n",
    "* `UPDATE`: Modifies existing data in a table.\n",
    "* `DELETE`: Removes rows of data from a table."
   ]
  },
  {
   "cell_type": "markdown",
   "metadata": {},
   "source": [
    "### `CREATE TABLE` Statement"
   ]
  },
  {
   "cell_type": "markdown",
   "metadata": {},
   "source": [
    "`CREATE TABLE` is a DDL (Data Definition Language) statement used to create tables in a relational database. The syntax is:"
   ]
  },
  {
   "cell_type": "code",
   "execution_count": null,
   "metadata": {},
   "outputs": [],
   "source": [
    "CREATE TABLE table_name (\n",
    "    column_name1 datatype constraints,\n",
    "    column_name2 datatype constraints,\n",
    "    ...\n",
    ");"
   ]
  },
  {
   "cell_type": "markdown",
   "metadata": {},
   "source": [
    "Example:"
   ]
  },
  {
   "cell_type": "code",
   "execution_count": null,
   "metadata": {},
   "outputs": [],
   "source": [
    "CREATE TABLE author (\n",
    "    author_id CHAR(2) PRIMARY KEY NOT NULL,\n",
    "    lastname VARCHAR(15) NOT NULL,\n",
    "    firstname VARCHAR(15) NOT NULL,\n",
    "    email VARCHAR(40),\n",
    "    city VARCHAR(15),\n",
    "    country CHAR(2)\n",
    ");"
   ]
  },
  {
   "cell_type": "markdown",
   "metadata": {},
   "source": [
    "### `ALTER`, `DROP` and `TRUNCATE` Tables"
   ]
  },
  {
   "cell_type": "markdown",
   "metadata": {},
   "source": [
    "**`ALTER TABLE` Statement** is used to modify the structure of an existing table.\n",
    "\n",
    "* `ADD COLUMN` adds a new column to the table.\n",
    "* `MODIFY COLUMN` changes the data type or constraints of an existing column\n",
    "* `DROP COLUMN` removes a column from the table.\n",
    "\n",
    "Syntax:  \n",
    "`ALTER TABLE table_name`  \n",
    "`ADD COLUMN column_name datatype constraints,`  \n",
    "`MODIFY COLUMN column_name datatype constraints,`    \n",
    "`DROP COLUMN column_name,`  \n",
    "`...;`  "
   ]
  },
  {
   "cell_type": "markdown",
   "metadata": {},
   "source": [
    "**`DROP TABLE` Statement** is used to delete an entire table from the database. \n",
    "\n",
    "Syntax:  \n",
    "\n",
    "`DROP TABLE table_name`"
   ]
  },
  {
   "cell_type": "markdown",
   "metadata": {},
   "source": [
    "**`TRUNCATE TABLE` Statement** is used to delete all rows from a table while keeping the table structure intact. \n",
    "\n",
    "Syntax:  \n",
    "\n",
    "`TRUNCATE TABLE table_name IMMEDIATE;`"
   ]
  },
  {
   "cell_type": "markdown",
   "metadata": {},
   "source": []
  }
 ],
 "metadata": {
  "kernelspec": {
   "display_name": ".venv",
   "language": "python",
   "name": "python3"
  },
  "language_info": {
   "codemirror_mode": {
    "name": "ipython",
    "version": 3
   },
   "file_extension": ".py",
   "mimetype": "text/x-python",
   "name": "python",
   "nbconvert_exporter": "python",
   "pygments_lexer": "ipython3",
   "version": "3.13.1"
  }
 },
 "nbformat": 4,
 "nbformat_minor": 2
}

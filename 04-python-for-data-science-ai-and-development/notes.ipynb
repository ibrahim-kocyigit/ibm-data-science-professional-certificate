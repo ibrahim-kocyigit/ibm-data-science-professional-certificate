{
 "cells": [
  {
   "cell_type": "markdown",
   "metadata": {},
   "source": [
    "### Reading Files with Open"
   ]
  },
  {
   "cell_type": "markdown",
   "metadata": {},
   "source": [
    "Reading text files involves extracting and processing the data stored within them. Text files can have various structures, and how you read them depends on their format. Here's a general guide on reading text files with different structures.\n",
    "\n",
    "#### Plain Text Files:\n",
    "* Plain text files contain unformatted text without and specific structure.\n",
    "* You can read plain text files line by line or load all the content into your memory.\n",
    "\n",
    "##### Opening the File\n",
    "There are two methods for opening the file using the file handling concept."
   ]
  },
  {
   "cell_type": "markdown",
   "metadata": {},
   "source": [
    "#### 1. Using Python's `open()` function"
   ]
  },
  {
   "cell_type": "markdown",
   "metadata": {},
   "source": [
    "Suppose we have a file named file.txt.\n",
    "\n",
    "Python's `open` function creates a file object and accesses the data within a text file. It takes two primary parameters:\n",
    "\n",
    "* **File path:** Consists of the filename and directory where the file is located.\n",
    "* **Mode:** Specifies the purpose of opening the file, such as 'r' for reading, 'w' for writing, or 'a' for appending."
   ]
  },
  {
   "cell_type": "code",
   "execution_count": 3,
   "metadata": {},
   "outputs": [
    {
     "name": "stdout",
     "output_type": "stream",
     "text": [
      "This is an example file.\n",
      "This is the second line of the file.\n"
     ]
    }
   ],
   "source": [
    "# Open the file in read ('r') mode\n",
    "file = open('data/file.txt', 'r')\n",
    "content = file.read()\n",
    "file.close()\n",
    "print(content)"
   ]
  },
  {
   "cell_type": "markdown",
   "metadata": {},
   "source": [
    "#### 2. Using 'with' statement"
   ]
  },
  {
   "cell_type": "markdown",
   "metadata": {},
   "source": [
    "To simplify file handling and ensure proper closure of files, Python provides the 'with' statement. It automatically closes the file when operations within the indented block are completed. **This is considered best practice when working with files.** "
   ]
  },
  {
   "cell_type": "code",
   "execution_count": 5,
   "metadata": {},
   "outputs": [],
   "source": [
    "# Open the file using 'with' in read ('r') mode\n",
    "with open('data/file.txt', 'r') as file:\n",
    "    # further code\n",
    "    pass"
   ]
  },
  {
   "cell_type": "markdown",
   "metadata": {},
   "source": [
    "**Advantages of using the `with` statement:**\n",
    "* Automatic resource management: The file is guaranteed to be closed when you exit the `with` block, even if an exception occurs during processing.\n",
    "* Cleaner and more concise code: You don't need to explicitly call `close()`, making your code more readable and less error-prone"
   ]
  },
  {
   "cell_type": "markdown",
   "metadata": {},
   "source": [
    "#### 1. Reading the entire content"
   ]
  },
  {
   "cell_type": "code",
   "execution_count": 7,
   "metadata": {},
   "outputs": [
    {
     "name": "stdout",
     "output_type": "stream",
     "text": [
      "This is an example file.\n",
      "This is the second line of the file.\n"
     ]
    }
   ],
   "source": [
    "# Step 1: Open the file you want to read\n",
    "with open('data/file.txt', 'r') as file:\n",
    "    # Step 2: Use the .read() method to read the entire content of the file.\n",
    "    file_stuff = file.read()\n",
    "\n",
    "# Step 3: Now that the file content is stored in the variable 'file_stuff', you can manipulate or display it as needed\n",
    "print(file_stuff)"
   ]
  },
  {
   "cell_type": "markdown",
   "metadata": {},
   "source": [
    "#### 2. Reading the content line by line"
   ]
  },
  {
   "cell_type": "markdown",
   "metadata": {},
   "source": []
  }
 ],
 "metadata": {
  "kernelspec": {
   "display_name": "venv",
   "language": "python",
   "name": "python3"
  },
  "language_info": {
   "codemirror_mode": {
    "name": "ipython",
    "version": 3
   },
   "file_extension": ".py",
   "mimetype": "text/x-python",
   "name": "python",
   "nbconvert_exporter": "python",
   "pygments_lexer": "ipython3",
   "version": "3.13.1"
  }
 },
 "nbformat": 4,
 "nbformat_minor": 2
}

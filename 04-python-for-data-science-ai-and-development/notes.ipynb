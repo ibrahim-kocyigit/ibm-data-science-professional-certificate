{
 "cells": [
  {
   "cell_type": "markdown",
   "metadata": {},
   "source": [
    "### Reading Files with `Open`"
   ]
  },
  {
   "cell_type": "markdown",
   "metadata": {},
   "source": [
    "Reading text files involves extracting and processing the data stored within them. Text files can have various structures, and how you read them depends on their format. Here's a general guide on reading text files with different structures.\n",
    "\n",
    "#### Plain Text Files:\n",
    "* Plain text files contain unformatted text without and specific structure.\n",
    "* You can read plain text files line by line or load all the content into your memory.\n",
    "\n",
    "##### Opening the File\n",
    "There are two methods for opening the file using the file handling concept."
   ]
  },
  {
   "cell_type": "markdown",
   "metadata": {},
   "source": [
    "#### 1. Using Python's `open()` function"
   ]
  },
  {
   "cell_type": "markdown",
   "metadata": {},
   "source": [
    "Suppose we have a file named file.txt.\n",
    "\n",
    "Python's `open` function creates a file object and accesses the data within a text file. It takes two primary parameters:\n",
    "\n",
    "* **File path:** Consists of the filename and directory where the file is located.\n",
    "* **Mode:** Specifies the purpose of opening the file, such as 'r' for reading, 'w' for writing, or 'a' for appending."
   ]
  },
  {
   "cell_type": "code",
   "execution_count": 3,
   "metadata": {},
   "outputs": [
    {
     "name": "stdout",
     "output_type": "stream",
     "text": [
      "This is an example file.\n",
      "This is the second line of the file.\n"
     ]
    }
   ],
   "source": [
    "# Open the file in read ('r') mode\n",
    "file = open('data/file.txt', 'r')\n",
    "content = file.read()\n",
    "file.close()\n",
    "print(content)"
   ]
  },
  {
   "cell_type": "markdown",
   "metadata": {},
   "source": [
    "#### 2. Using 'with' statement"
   ]
  },
  {
   "cell_type": "markdown",
   "metadata": {},
   "source": [
    "To simplify file handling and ensure proper closure of files, Python provides the 'with' statement. It automatically closes the file when operations within the indented block are completed. **This is considered best practice when working with files.** "
   ]
  },
  {
   "cell_type": "code",
   "execution_count": 5,
   "metadata": {},
   "outputs": [],
   "source": [
    "# Open the file using 'with' in read ('r') mode\n",
    "with open('data/file.txt', 'r') as file:\n",
    "    # further code\n",
    "    pass"
   ]
  },
  {
   "cell_type": "markdown",
   "metadata": {},
   "source": [
    "**Advantages of using the `with` statement:**\n",
    "* Automatic resource management: The file is guaranteed to be closed when you exit the `with` block, even if an exception occurs during processing.\n",
    "* Cleaner and more concise code: You don't need to explicitly call `close()`, making your code more readable and less error-prone"
   ]
  },
  {
   "cell_type": "markdown",
   "metadata": {},
   "source": [
    "#### 1. Reading the entire content"
   ]
  },
  {
   "cell_type": "code",
   "execution_count": 7,
   "metadata": {},
   "outputs": [
    {
     "name": "stdout",
     "output_type": "stream",
     "text": [
      "This is an example file.\n",
      "This is the second line of the file.\n"
     ]
    }
   ],
   "source": [
    "# Step 1: Open the file you want to read\n",
    "with open('data/file.txt', 'r') as file:\n",
    "    # Step 2: Use the .read() method to read the entire content of the file.\n",
    "    file_stuff = file.read()\n",
    "\n",
    "# Step 3: Now that the file content is stored in the variable 'file_stuff', you can manipulate or display it as needed\n",
    "print(file_stuff)"
   ]
  },
  {
   "cell_type": "markdown",
   "metadata": {},
   "source": [
    "#### 2. Reading the content line by line"
   ]
  },
  {
   "cell_type": "markdown",
   "metadata": {},
   "source": [
    "Python provides methods to read files line by line:\n",
    "* The `readlines` method reads the file line by line and stores each line as an element in a list. The order of lines in the list corresponds to their order in the file.\n",
    "* The `readline` method reads individual lines from the file. It can be called multiple times to read subsequent lines.\n",
    "\n",
    "In Python, the `readline()` method is like reading a book one line at a time. Imagine you have a big book and want to read it page by page. `readline()` helps you do just that with lines of text instead of pages.\n",
    "\n",
    "Here's how it works:"
   ]
  },
  {
   "cell_type": "code",
   "execution_count": 12,
   "metadata": {},
   "outputs": [
    {
     "name": "stdout",
     "output_type": "stream",
     "text": [
      "This is an example file.\n",
      "\n",
      "This is the second line of the file.\n"
     ]
    }
   ],
   "source": [
    "# First you need to open the file:\n",
    "file = open('data/file.txt', 'r')\n",
    "\n",
    "line1 = file.readline() # reads the first line\n",
    "line2 = file.readline() # reads the second line\n",
    "\n",
    "print(line1)\n",
    "if 'second' in line2:\n",
    "    print(line2)\n",
    "    \n",
    "file.close()"
   ]
  },
  {
   "cell_type": "code",
   "execution_count": 13,
   "metadata": {},
   "outputs": [
    {
     "name": "stdout",
     "output_type": "stream",
     "text": [
      "This is an example file.\n",
      "\n",
      "This is the second line of the file.\n"
     ]
    }
   ],
   "source": [
    "file = open('data/file.txt', 'r')\n",
    "\n",
    "# Typically you use a loop to read lines until no more lines are left. \n",
    "while True:\n",
    "    line = file.readline()\n",
    "    if not line:\n",
    "        break # Stop when there are no more lines to read\n",
    "    print(line)\n",
    "    \n",
    "file.close()"
   ]
  },
  {
   "cell_type": "markdown",
   "metadata": {},
   "source": [
    "#### 3. Reading specific characters"
   ]
  },
  {
   "cell_type": "markdown",
   "metadata": {},
   "source": [
    "You can specify the number of characters to read using the `readlines` method. For example, reading the first four characters, the next five, and so on.\n",
    "\n",
    "Reading specific characters from a text file in Python involves opening the file, navigating to the desired position, and then reading the characters you need. Here's a detailed explanation:"
   ]
  },
  {
   "cell_type": "code",
   "execution_count": 14,
   "metadata": {},
   "outputs": [
    {
     "name": "stdout",
     "output_type": "stream",
     "text": [
      " exam\n"
     ]
    }
   ],
   "source": [
    "# Open the file\n",
    "file = open('data/file.txt')\n",
    "\n",
    "# Navigate to the intended position (optional)\n",
    "file.seek(10) # Move to the 11th byte (0-based index)\n",
    "\n",
    "# Read specific characters\n",
    "characters = file.read(5) # Read the next 5 characters\n",
    "\n",
    "# Use the 'characters'\n",
    "print(characters)\n",
    "\n",
    "# Close the file\n",
    "file.close()"
   ]
  },
  {
   "cell_type": "markdown",
   "metadata": {},
   "source": [
    "### Writing Files with `Open`"
   ]
  },
  {
   "cell_type": "markdown",
   "metadata": {},
   "source": [
    "You can create a new text file and write data to it using Python's `open()` function. The `open()` function takes two main arguments: the file path (including the file name), and the mode parameter, which specifies the operation you want to perform on the file. For writing, you should use the mode 'w'. For example:"
   ]
  },
  {
   "cell_type": "code",
   "execution_count": 15,
   "metadata": {},
   "outputs": [],
   "source": [
    "with open('data/example2.txt', 'w') as file2:\n",
    "    file2.write(\"This is line A\\n\")\n",
    "    file2.write(\"This is line B\\n\")\n",
    "    # file is automatically closed when the 'with' block ends"
   ]
  },
  {
   "cell_type": "markdown",
   "metadata": {},
   "source": [
    "#### Writing multiple lines to a file using a list and loop"
   ]
  },
  {
   "cell_type": "code",
   "execution_count": 16,
   "metadata": {},
   "outputs": [],
   "source": [
    "# List of lines to write to the file\n",
    "lines = [\"This is line 1\", \"This is line 2\", \"This is line 3\"]\n",
    "\n",
    "# Create a new file\n",
    "with open(\"data/example3.txt\", \"w\") as file3:\n",
    "    for line in lines:\n",
    "        file3.write(line + \"\\n\")"
   ]
  },
  {
   "cell_type": "markdown",
   "metadata": {},
   "source": [
    "#### Appending data to an existing file"
   ]
  },
  {
   "cell_type": "code",
   "execution_count": 17,
   "metadata": {},
   "outputs": [],
   "source": [
    "new_data = \"This is line C\"\n",
    "\n",
    "with open('data/example2.txt', 'a') as file2: # We use mode 'a' to append\n",
    "    file2.write(new_data + \"\\n\")"
   ]
  },
  {
   "cell_type": "markdown",
   "metadata": {},
   "source": [
    "#### Copying contents from one file to another"
   ]
  },
  {
   "cell_type": "code",
   "execution_count": 18,
   "metadata": {},
   "outputs": [],
   "source": [
    "# Open the source file for reading\n",
    "with open('data/example3.txt', 'r') as source_file:\n",
    "    # Open the destination file for writing\n",
    "    with open('data/example4.txt', 'w') as destination_file:\n",
    "        # Read lines from the source file and copy them to the destination file\n",
    "        for line in source_file:\n",
    "            destination_file.write(line)\n"
   ]
  },
  {
   "cell_type": "markdown",
   "metadata": {},
   "source": [
    "#### Additional modes"
   ]
  },
  {
   "cell_type": "markdown",
   "metadata": {},
   "source": [
    "It's fairly inefficient to open the file in 'a' or 'w' and then reopen it in 'r' to read any lines. Luckily we can access the file in the following modules:\n",
    "* r+: Reading and writing. Cannot truncate the file.\n",
    "* w+: Writing and reading. Truncates the file.\n",
    "* a+: Appending and reading. Creates a new file, if none exists. \n",
    "\n",
    "Let's try out the 'a+' mode:"
   ]
  },
  {
   "cell_type": "code",
   "execution_count": null,
   "metadata": {},
   "outputs": [],
   "source": []
  },
  {
   "cell_type": "markdown",
   "metadata": {},
   "source": []
  },
  {
   "cell_type": "markdown",
   "metadata": {},
   "source": [
    "#### All file modes in Python (syntax and use cases)"
   ]
  },
  {
   "cell_type": "markdown",
   "metadata": {},
   "source": [
    "Mode |\tSyntax | Description |\n",
    "-----|---------|-------------|\n",
    "|‘r’|\t'r'\t|Read mode. Opens an existing file for reading. Raises an error if the file doesn't exist.|\n",
    "|‘w’\t|'w'\t|Write mode. Creates a new file for writing. Overwrites the file if it already exists.|\n",
    "|‘a’\t|'a'\t|Append mode. Opens a file for appending data. Creates the file if it doesn't exist.|\n",
    "|‘x’\t|'x'\t|Exclusive creation mode. Creates a new file for writing but raises an error if the file already exists.|\n",
    "|‘rb’\t|'rb'\t|Read binary mode. Opens an existing binary file for reading.|\n",
    "|‘wb’\t|'wb'\t|Write binary mode. Creates a new binary file for writing.|\n",
    "|‘ab’\t|'ab'\t|Append binary mode. Opens a binary file for appending data.|\n",
    "|‘xb’\t|'xb'\t|Exclusive binary creation mode. Creates a new binary file for writing but raises an error if it already exists.|\n",
    "|‘rt’|\t'rt'\t|Read text mode. Opens an existing text file for reading. (Default for text files)|\n",
    "|‘wt’\t|'wt'\t|Write text mode. Creates a new text file for writing. (Default for text files)|\n",
    "|‘at’\t|'at'\t|Append text mode. Opens a text file for appending data. (Default for text files)|\n",
    "|‘xt’\t|'xt'\t|Exclusive text creation mode. Creates a new text file for writing but raises an error if it already exists.|\n",
    "|‘r+’\t|'r+'\t|Read and write mode. Opens an existing file for both reading and writing.|\n",
    "|‘w+’\t|'w+'\t|Write and read mode. Creates a new file for reading and writing. Overwrites the file if it already exists.|\n",
    "|‘a+’\t|'a+'\t|Append and read mode. Opens a file for both appending and reading. Creates the file if it doesn't exist.|\n",
    "|‘x+’\t|'x+'\t|Exclusive creation and read/write mode. Creates a new file for reading and writing but raises an error if it already exists.|"
   ]
  },
  {
   "cell_type": "markdown",
   "metadata": {},
   "source": []
  }
 ],
 "metadata": {
  "kernelspec": {
   "display_name": "venv",
   "language": "python",
   "name": "python3"
  },
  "language_info": {
   "codemirror_mode": {
    "name": "ipython",
    "version": 3
   },
   "file_extension": ".py",
   "mimetype": "text/x-python",
   "name": "python",
   "nbconvert_exporter": "python",
   "pygments_lexer": "ipython3",
   "version": "3.13.1"
  }
 },
 "nbformat": 4,
 "nbformat_minor": 2
}

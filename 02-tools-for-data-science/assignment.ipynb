{
 "cells": [
  {
   "cell_type": "markdown",
   "id": "e7ba372f-335a-4836-943b-f9cf0fa309b0",
   "metadata": {},
   "source": [
    "## Using Jupyter Notebooks for Data Science "
   ]
  },
  {
   "cell_type": "markdown",
   "metadata": {},
   "source": [
    "This notebook is prepared as a peer graded assignment for the IBM Data Science Professional Certificate program's 'Tools for Data Science' course."
   ]
  },
  {
   "cell_type": "markdown",
   "metadata": {},
   "source": [
    "### Data Science Languages\n",
    "The popular languages in data science are:\n",
    "* Python\n",
    "* R\n",
    "* SQL\n",
    "* Scala\n",
    "* Java\n",
    "* C++\n",
    "\n",
    "JavaScript, PHP, Go, Ruby, and Visual Basic all have their own unique use cases as well."
   ]
  },
  {
   "cell_type": "markdown",
   "metadata": {},
   "source": [
    "### Data Science Libraries\n",
    "Some of the most popular libraries in data science are:\n",
    "* Pandas\n",
    "* NumPy\n",
    "* Matplotlib\n",
    "* Seaborn\n",
    "* Scikit-learn\n",
    "* TensorFlow\n",
    "* PyTorch"
   ]
  },
  {
   "cell_type": "markdown",
   "metadata": {},
   "source": [
    "### Data Science Tools\n",
    "Some of the most popular tools in data science are:\n",
    "\n",
    "Tool | Use Case | Type\n",
    "-----|----------|------\n",
    "MySQL | Data management | Open source\n",
    "PostgreSQL | Data management | Open source\n",
    "MongoDB | Data management | Open source\n",
    "Oracle Database | Data management | Commercial\n",
    "Apache AirFlow | Data integration and transformation | Open source\n",
    "Apache Kafta | Data integration and transformation | Open source\n",
    "Informatica Powercenter | Data integration and transformation | Commercial\n",
    "TensorFlow | Model development and deployment | Open source\n",
    "Scikit-learn | Model development and deployment | Open source\n",
    "SPSS Modeler | Model development and deployment | Commercial\n",
    "SAS Enterprise Miner | Model development and deployment | Commercial\n",
    "ModelDB | Model monitoring | Open source\n",
    "Prometheus | Model monitoring | Open source\n",
    "Git & GitHub | Code asset management | Open source\n",
    "Apache Atlas | Data asset management | Open source\n"
   ]
  },
  {
   "cell_type": "markdown",
   "metadata": {},
   "source": [
    "### Arithmetic Expressions\n",
    "Here are some the arithmetic expressions in Python:"
   ]
  },
  {
   "cell_type": "code",
   "execution_count": 7,
   "metadata": {},
   "outputs": [
    {
     "data": {
      "text/plain": [
       "15"
      ]
     },
     "execution_count": 7,
     "metadata": {},
     "output_type": "execute_result"
    }
   ],
   "source": [
    "# Multiply *\n",
    "3 * 5 # Output: 15"
   ]
  },
  {
   "cell_type": "code",
   "execution_count": 8,
   "metadata": {},
   "outputs": [
    {
     "data": {
      "text/plain": [
       "8"
      ]
     },
     "execution_count": 8,
     "metadata": {},
     "output_type": "execute_result"
    }
   ],
   "source": [
    "# Add +\n",
    "3 + 5 # Output 8"
   ]
  },
  {
   "cell_type": "code",
   "execution_count": 9,
   "metadata": {},
   "outputs": [
    {
     "data": {
      "text/plain": [
       "58.33"
      ]
     },
     "execution_count": 9,
     "metadata": {},
     "output_type": "execute_result"
    }
   ],
   "source": [
    "## Minutes to Hours\n",
    "def min_to_h(min):\n",
    "    return float(\"{:.2f}\".format(min / 60))\n",
    "\n",
    "min_to_h(3500)"
   ]
  },
  {
   "cell_type": "markdown",
   "metadata": {},
   "source": [
    "### Objectives\n",
    "The objectives of this notebook are \n",
    "* To get familiarize with Jupyter Notebook.\n",
    "* To practice primary use cases of the Jupyter Notebooks\n",
    "* To learn how to share Jupyter Notebooks"
   ]
  },
  {
   "cell_type": "markdown",
   "metadata": {},
   "source": [
    "### Author\n",
    "This notebook is created by Ibrahim Kocyigit."
   ]
  }
 ],
 "metadata": {
  "kernelspec": {
   "display_name": "venv",
   "language": "python",
   "name": "python3"
  },
  "language_info": {
   "codemirror_mode": {
    "name": "ipython",
    "version": 3
   },
   "file_extension": ".py",
   "mimetype": "text/x-python",
   "name": "python",
   "nbconvert_exporter": "python",
   "pygments_lexer": "ipython3",
   "version": "3.13.1"
  },
  "prev_pub_hash": "9e1985db9844176462bd1d5863048c9f3d17404bbc6a648be9084b0c42b29347"
 },
 "nbformat": 4,
 "nbformat_minor": 4
}
